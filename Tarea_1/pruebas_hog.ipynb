{
 "cells": [
  {
   "cell_type": "code",
   "execution_count": 22,
   "metadata": {},
   "outputs": [
    {
     "data": {
      "text/plain": [
       "(810,)"
      ]
     },
     "execution_count": 22,
     "metadata": {},
     "output_type": "execute_result"
    }
   ],
   "source": [
    "import cv2\n",
    "\n",
    "win_size = (16, 32)  # Tamaño de la ventana de detección en píxeles (ancho, alto)\n",
    "block_size = (16, 16)  # Tamaño de un bloque en píxeles (ancho, alto)\n",
    "block_stride = (8, 8)  # Desplazamiento de los bloques en píxeles (ancho, alto)\n",
    "cell_size = (16, 16)  # Tamaño de una celda en píxeles (ancho, alto)\n",
    "nbins = 9  # Número de bins (divisiones) en el histograma de gradientes\n",
    "\n",
    "# Crear el objeto HOGDescriptor con los parámetros personalizados\n",
    "hog = cv2.HOGDescriptor(win_size, block_size, block_stride, cell_size, nbins)\n",
    "\n",
    "# Leer la imagen y calcular el descriptor HOG\n",
    "image = cv2.imread('dataset_tarea1/dataset_a/q/q0008.jpg')\n",
    "image_resized = cv2.resize(image, (100, 100))  # Asegurarse de que la imagen tenga el tamaño deseado\n",
    "descriptor = hog.compute(image_resized)\n",
    "descriptor.shape"
   ]
  }
 ],
 "metadata": {
  "kernelspec": {
   "display_name": "Python 3",
   "language": "python",
   "name": "python3"
  },
  "language_info": {
   "codemirror_mode": {
    "name": "ipython",
    "version": 3
   },
   "file_extension": ".py",
   "mimetype": "text/x-python",
   "name": "python",
   "nbconvert_exporter": "python",
   "pygments_lexer": "ipython3",
   "version": "3.10.6"
  },
  "orig_nbformat": 4
 },
 "nbformat": 4,
 "nbformat_minor": 2
}
