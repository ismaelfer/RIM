{
 "cells": [
  {
   "cell_type": "code",
   "execution_count": 2,
   "metadata": {},
   "outputs": [],
   "source": [
    "import sys\n",
    "import os.path\n",
    "import cv2"
   ]
  },
  {
   "cell_type": "code",
   "execution_count": null,
   "metadata": {},
   "outputs": [],
   "source": [
    "\n",
    "# Implementar la tarea:\n",
    "#  1-leer imágenes en dir_dataset_r\n",
    "#  2-calcular descriptores de imágenes\n",
    "#  3-crear dir_datos_temporales con: os.makedirs(dir_datos_temporales, exist_ok=True)\n",
    "#  4-escribir en dir_datos_temporales los descriptores"
   ]
  },
  {
   "cell_type": "code",
   "execution_count": 3,
   "metadata": {},
   "outputs": [
    {
     "name": "stdout",
     "output_type": "stream",
     "text": [
      "['dataset_tarea1/dataset_a/r/r1571.jpg', 'dataset_tarea1/dataset_a/r/r1673.jpg', 'dataset_tarea1/dataset_a/r/r0711.jpg', 'dataset_tarea1/dataset_a/r/r0519.jpg', 'dataset_tarea1/dataset_a/r/r0893.jpg']\n",
      "31752\n"
     ]
    }
   ],
   "source": [
    "# leer imágenes en dir_dataset_r:\n",
    "#  1-crear lista de archivos de imágenes en dir_dataset_r\n",
    "path = 'dataset_tarea1'\n",
    "#find all jpg images in the directory tree:\n",
    "jpgs = [os.path.join(dirpath, f)\n",
    "    for dirpath, dirnames, files in os.walk(path)\n",
    "    for f in files if f.endswith('.jpg')]\n",
    "print(jpgs[:5])\n",
    "print(len(jpgs))\n",
    "\n"
   ]
  },
  {
   "cell_type": "code",
   "execution_count": 5,
   "metadata": {},
   "outputs": [
    {
     "name": "stdout",
     "output_type": "stream",
     "text": [
      "0\n",
      "100\n"
     ]
    },
    {
     "data": {
      "text/plain": [
       "(3780,)"
      ]
     },
     "execution_count": 5,
     "metadata": {},
     "output_type": "execute_result"
    }
   ],
   "source": [
    "# get hog descriptor for all images in jpgs:\n",
    "hog = cv2.HOGDescriptor()\n",
    "hog_descriptors = []\n",
    "\n",
    "for jpg in jpgs[0:200]:\n",
    "    #count iterations and print:\n",
    "    img = cv2.imread(jpg)\n",
    "    img = cv2.cvtColor(img, cv2.COLOR_BGR2GRAY)\n",
    "    img = cv2.resize(img, (64, 128))\n",
    "    hog_descriptors.append(hog.compute(img))\n",
    "    if jpgs.index(jpg) % 100 == 0:\n",
    "        print(jpgs.index(jpg))\n",
    "\n",
    "hog_descriptors[0].shape"
   ]
  }
 ],
 "metadata": {
  "kernelspec": {
   "display_name": "Python 3",
   "language": "python",
   "name": "python3"
  },
  "language_info": {
   "codemirror_mode": {
    "name": "ipython",
    "version": 3
   },
   "file_extension": ".py",
   "mimetype": "text/x-python",
   "name": "python",
   "nbconvert_exporter": "python",
   "pygments_lexer": "ipython3",
   "version": "3.10.6"
  },
  "orig_nbformat": 4
 },
 "nbformat": 4,
 "nbformat_minor": 2
}
